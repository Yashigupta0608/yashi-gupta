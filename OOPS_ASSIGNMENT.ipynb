{
  "nbformat": 4,
  "nbformat_minor": 0,
  "metadata": {
    "colab": {
      "provenance": []
    },
    "kernelspec": {
      "name": "python3",
      "display_name": "Python 3"
    },
    "language_info": {
      "name": "python"
    }
  },
  "cells": [
    {
      "cell_type": "markdown",
      "source": [
        "OOPS ASSIGNMENT\n"
      ],
      "metadata": {
        "id": "jj_Tqk3Hi0tC"
      }
    },
    {
      "cell_type": "markdown",
      "source": [
        "1-  What is Object-Oriented Programming (OOP)?\n",
        "\n",
        "ANS- Oops is a programming paradigm based on the concept of \"object\" which can contain data (in the form of fields or attributes) and code (in the form of methods or functions).\n",
        "\n"
      ],
      "metadata": {
        "id": "l56q9uq-i6bD"
      }
    },
    {
      "cell_type": "code",
      "source": [],
      "metadata": {
        "id": "2Zs5IVtujfWe"
      },
      "execution_count": null,
      "outputs": []
    },
    {
      "cell_type": "markdown",
      "source": [
        "2- What is a class in OOP?\n",
        "\n",
        "ANS - In Oops , a class is a blueprint or template used to create objects . It defines the properties ( also called attributes) and behaviours (called methods) that created objects will have.\n",
        "\n",
        "3- What is an objects in OOPS?\n",
        "\n",
        "ANS- An object in Object-Oriented Programming (OOP) is an instance of a class. It represents a real-world entity with specific properties (attributes) and behaviors (methods) defined by its class.\n",
        "\n",
        "4- &H What is the difference between abstraction and encapsulation ?\n",
        "\n",
        "ANS- Abstraction -\n",
        "   Hiding implementation details and showing only the necessary functionality.\n",
        "  Focuses on what an object does rather than how it does it.\n",
        "\n",
        "  Encapsulation -\n",
        "  Hiding data by restricting direct access and allowing modification through controlled methods.\n",
        "Protects the integrity of data by preventing unauthorized access.\n",
        "\n",
        "5- What are dunder methods in Python ?\n",
        "\n",
        "ANS- Dunder methods, also known as \"magic methods\" or \"special methods,\" are built-in methods in Python that start and end with double underscores (__). They enable customization of class behavior, allowing objects to work seamlessly with Python’s built-in functions and operators.\n",
        "\n",
        "6-Explain the concept of inheritance in OOP.\n",
        "\n",
        "ANS- Inheritance is an OOP concept where one class (child class) inherits the properties and methods of another class (parent class). It promotes code reusability and helps in organizing code in a hierarchical manner.\n",
        "\n",
        "7- What is polymorphism in OOP ?\n",
        "\n",
        "ANS-\n",
        "\n",
        "Polymorphism is an OOP concept that allows objects of different classes to be treated as objects of a common superclass. It enables a single interface to represent different underlying data types, promoting flexibility and code reusability.\n",
        "\n",
        "8- How is encapsulation achieved in Python ?\n",
        "\n",
        "ANS-\n",
        "\n",
        "Encapsulation is an Object-Oriented Programming (OOP) concept that restricts direct access to class attributes and methods to prevent accidental modification. It helps in data protection and abstraction by controlling how data is accessed and modified.\n",
        "\n",
        "9- What is a constructor in Python ?\n",
        "\n",
        "ANS -A constructor in Python is a special method init() that is automatically called when an object of a class is created. It initializes the object's attributes.\n",
        "\n",
        "10- What are class and static methods in Python ?\n",
        "\n",
        "ANS-\n",
        "In Python, class methods and static methods are used to define methods that are not tied to an instance but instead to the class itself.\n",
        "\n",
        "11- What is method overloading in Python ?\n",
        "\n",
        "ANS-\n",
        "Method overloading is the ability to define multiple methods with the same name but different parameters. In many programming languages (like Java and C++), method overloading allows defining multiple methods with different numbers or types of arguments.\n",
        "\n",
        "12-What is method overriding in OOP ?\n",
        "\n",
        "ANS-\n",
        "\n",
        "Method overriding is an OOP feature that allows a subclass to provide a specific implementation of a method that is already defined in its parent class. The overridden method in the child class must have the same name, parameters, and return type as the method in the parent class.\n",
        "\n",
        "13-What is a property decorator in Python ?\n",
        "\n",
        "ANS-\n",
        "\n",
        "The @property decorator in Python is used to define getter, setter, and deleter methods in a class while maintaining a clean and intuitive syntax. It allows us to control how class attributes are accessed and modified, promoting encapsulation.\n",
        "\n",
        "14- Why is polymorphism important in OOP ?\n",
        "\n",
        "ANS-\n",
        "\n",
        "Polymorphism is a fundamental concept in Object-Oriented Programming (OOP) that allows objects of different classes to be treated as objects of a common super class. It provides flexibility, scalability, and code reusability, making software more maintainable and easier to extend.\n",
        "\n",
        "15- What is an abstract class in Python ?\n",
        "\n",
        "ANS-\n",
        "\n",
        "An abstract class in Python is a class that cannot be instantiated and serves as a blueprint for other classes. It defines methods that must be implemented by its child classes.\n",
        "\n",
        "In Python, abstract classes are created using the ABC (Abstract Base Class) module from abc.\n",
        "\n",
        "16-What are the advantages of OOP ?\n",
        "\n",
        "ANS-\n",
        "\n",
        "Object-Oriented Programming (OOP) provides a structured and modular approach to software development. It improves code organization, reusability, scalability, and maintainability.\n",
        "\n",
        "17-What is the difference between a class variable and an instance variable ?\n",
        "\n",
        "ANS-\n",
        "\n",
        "In Object-Oriented Programming (OOP), class variables and instance variables are used to store data, but they differ in scope, accessibility, and behavior.\n",
        "\n",
        "18-What is multiple inheritance in Python ?\n",
        "\n",
        "ANS-\n",
        "\n",
        "Multiple inheritance is a feature in Python where a class can inherit from more than one parent class. This allows a child class to inherit attributes and methods from multiple base classes.\n",
        "\n",
        "19-Explain the purpose of ‘’str’ and ‘repr’ ‘ methods in Python.\n",
        "\n",
        "ANS-\n",
        "\n",
        "Both str and repr are dunder (double underscore) methods in Python that control how objects are represented as strings. The key difference lies in their purpose and usage.\n",
        "\n",
        "20-What is the significance of the ‘super()’ function in Python?\n",
        "\n",
        "ANS-\n",
        "\n",
        "The super() function in Python allows access to methods of a parent (or superclass) from a child (or subclass). It is commonly used in inheritance to avoid explicitly referring to the parent class.\n",
        "\n",
        "21-What is the significance of the del method in Python ?\n",
        "\n",
        "ANS-\n",
        "\n",
        "The del method, also known as the destructor, is a special dunder (double underscore) method in Python that is called when an object is about to be destroyed (i.e., when it is garbage collected).\n",
        "\n",
        "22-What is the difference between @staticmethod and @classmethod in Python ?\n",
        "\n",
        "ANS-\n",
        "\n",
        "Both @staticmethod and @classmethod are decorators used to define methods inside a class that do not operate on instances in the usual way. However, they have key differences in how they access class data.\n",
        "\n",
        "23-How does polymorphism work in Python with inheritance ?\n",
        "\n",
        "ANS-\n",
        "\n",
        "When a child class overrides a method from a parent class, this is an example of method overriding, a key aspect of polymorphism.\n",
        "\n",
        "24-What is method chaining in Python OOP ?\n",
        "\n",
        "ANS-\n",
        "\n",
        "Method chaining is a technique in Object-Oriented Programming (OOP) where multiple methods are called on the same object in a single line, improving code readability and efficiency.\n",
        "\n",
        "25-What is the purpose of the call method in Python ?\n",
        "\n",
        "ANS-\n",
        "\n",
        "The call method allows an instance of a class to be called like a function. When an object has call defined, calling the object executes the call method."
      ],
      "metadata": {
        "id": "QXUG2okGjiSr"
      }
    },
    {
      "cell_type": "markdown",
      "source": [
        "PRACTICAL QUESTIONS\n"
      ],
      "metadata": {
        "id": "Tqi67uiQl_r7"
      }
    },
    {
      "cell_type": "markdown",
      "source": [
        " 1-Create a parent class Animal with a method speak() that prints a generic message. Create a child class Dog\n",
        "that overrides the speak() method to print \"Bark!\"."
      ],
      "metadata": {
        "id": "JOVQpQxSmMOc"
      }
    },
    {
      "cell_type": "code",
      "source": [
        "# Parent class\n",
        "class Animal:\n",
        "    def speak(self):\n",
        "        print(\"Animal makes a sound.\")\n",
        "\n",
        "# Child class\n",
        "class Dog(Animal):\n",
        "    def speak(self):\n",
        "        print(\"Bark!\")\n",
        "\n",
        "# Creating objects\n",
        "animal = Animal()\n",
        "dog = Dog()\n",
        "\n",
        "animal.speak()\n",
        "dog.speak()\n",
        ""
      ],
      "metadata": {
        "colab": {
          "base_uri": "https://localhost:8080/"
        },
        "id": "ATlJoGMCmTzw",
        "outputId": "eb769b37-3aff-4c50-ae84-12d27edace6d"
      },
      "execution_count": 1,
      "outputs": [
        {
          "output_type": "stream",
          "name": "stdout",
          "text": [
            "Animal makes a sound.\n",
            "Bark!\n"
          ]
        }
      ]
    },
    {
      "cell_type": "markdown",
      "source": [
        "2. Write a program to create an abstract class Shape with a method area(). Derive classes Circle and Rectangle\n",
        "from it and implement the area() method in both."
      ],
      "metadata": {
        "id": "D2t2buivmbDS"
      }
    },
    {
      "cell_type": "code",
      "source": [
        "\n",
        "\n",
        "from abc import ABC, abstractmethod\n",
        "\n",
        "# Abstract class\n",
        "class Shape(ABC):\n",
        "    @abstractmethod\n",
        "    def area(self):\n",
        "        pass  # Must be implemented by child classes\n",
        "\n",
        "# Derived class Circle\n",
        "class Circle(Shape):\n",
        "    def __init__(self, radius):\n",
        "        self.radius = radius\n",
        "\n",
        "    def area(self):\n",
        "        return 3.14 * self.radius ** 2  # πr²\n",
        "\n",
        "# Derived class Rectangle\n",
        "class Rectangle(Shape):\n",
        "    def __init__(self, width, height):\n",
        "        self.width = width\n",
        "        self.height = height\n",
        "\n",
        "    def area(self):\n",
        "        return self.width * self.height  # w × h\n",
        "\n",
        "# Creating objects\n",
        "circle = Circle(5)\n",
        "rectangle = Rectangle(4, 6)\n",
        "\n",
        "# Displaying areas\n",
        "print(f\"Circle Area: {circle.area()}\")\n",
        "print(f\"Rectangle Area: {rectangle.area()}\")"
      ],
      "metadata": {
        "colab": {
          "base_uri": "https://localhost:8080/"
        },
        "id": "O5bY3Xw3mlBA",
        "outputId": "37a051cd-2dfc-4581-a364-f9de330d8cb8"
      },
      "execution_count": 3,
      "outputs": [
        {
          "output_type": "stream",
          "name": "stdout",
          "text": [
            "Circle Area: 78.5\n",
            "Rectangle Area: 24\n"
          ]
        }
      ]
    },
    {
      "cell_type": "markdown",
      "source": [
        "3-Implement a multi-level inheritance scenario where a class Vehicle has an attribute type. Derive a class Car and further derive a class ElectricCar that adds a battery attribute"
      ],
      "metadata": {
        "id": "EOCWNj6ymyKU"
      }
    },
    {
      "cell_type": "code",
      "source": [
        "# Base class\n",
        "class Vehicle:\n",
        "    def __init__(self, vehicle_type):\n",
        "        self.type = vehicle_type\n",
        "\n",
        "    def show_type(self):\n",
        "        print(f\"Vehicle Type: {self.type}\")\n",
        "\n",
        "# Intermediate class\n",
        "class Car(Vehicle):\n",
        "    def __init__(self, vehicle_type, brand):\n",
        "        super().__init__(vehicle_type)  # Call parent constructor\n",
        "        self.brand = brand\n",
        "\n",
        "    def show_brand(self):\n",
        "        print(f\"Car Brand: {self.brand}\")\n",
        "\n",
        "# Derived class\n",
        "class ElectricCar(Car):\n",
        "    def __init__(self, vehicle_type, brand, battery):\n",
        "        super().__init__(vehicle_type, brand)  # Call Car's constructor\n",
        "        self.battery = battery\n",
        "\n",
        "    def show_battery(self):\n",
        "        print(f\"Battery Capacity: {self.battery} kWh\")\n",
        "\n",
        "# Creating an instance of ElectricCar\n",
        "tesla = ElectricCar(\"Sedan\", \"Tesla\", 75)\n",
        "\n",
        "# Display attributes and method outputs\n",
        "tesla.show_type()\n",
        "tesla.show_brand()\n",
        "tesla.show_battery()\n"
      ],
      "metadata": {
        "colab": {
          "base_uri": "https://localhost:8080/"
        },
        "id": "u9c6IbNTmt5m",
        "outputId": "11ea7d51-a6b7-45aa-c1ad-e84134e3ed57"
      },
      "execution_count": 4,
      "outputs": [
        {
          "output_type": "stream",
          "name": "stdout",
          "text": [
            "Vehicle Type: Sedan\n",
            "Car Brand: Tesla\n",
            "Battery Capacity: 75 kWh\n"
          ]
        }
      ]
    },
    {
      "cell_type": "markdown",
      "source": [
        "4-Demonstrate polymorphism by creating a base class Bird with a method fly(). Create two derived classes Sparrow and Penguin that override the fly() method."
      ],
      "metadata": {
        "id": "TDqEwPRhm8SV"
      }
    },
    {
      "cell_type": "code",
      "source": [
        "# Base class\n",
        "class Bird:\n",
        "    def fly(self):\n",
        "        print(\"Birds can fly (general behavior).\")\n",
        "\n",
        "# Derived class: Sparrow\n",
        "class Sparrow(Bird):\n",
        "    def fly(self):\n",
        "        print(\"Sparrow flies high in the sky!\")\n",
        "\n",
        "# Derived class: Penguin\n",
        "class Penguin(Bird):\n",
        "    def fly(self):\n",
        "        print(\"Penguins cannot fly, but they swim!\")\n",
        "\n",
        "# Function to demonstrate polymorphism\n",
        "def bird_flight(bird):\n",
        "    bird.fly()  # Calls the appropriate fly() method\n",
        "\n",
        "# Creating instances\n",
        "sparrow = Sparrow()\n",
        "penguin = Penguin()\n",
        "\n",
        "# Calling the function with different bird objects\n",
        "bird_flight(sparrow)\n",
        "bird_flight(penguin)\n"
      ],
      "metadata": {
        "colab": {
          "base_uri": "https://localhost:8080/"
        },
        "id": "Gg_cMlW1m6n5",
        "outputId": "58f005f0-9822-4695-8ec8-2021477f13ae"
      },
      "execution_count": 6,
      "outputs": [
        {
          "output_type": "stream",
          "name": "stdout",
          "text": [
            "Sparrow flies high in the sky!\n",
            "Penguins cannot fly, but they swim!\n"
          ]
        }
      ]
    },
    {
      "cell_type": "markdown",
      "source": [
        "5-Write a program to demonstrate encapsulation by creating a class BankAccount with private attributes balance and methods to deposit, withdraw, and check balance."
      ],
      "metadata": {
        "id": "xgqAM9pZnBGC"
      }
    },
    {
      "cell_type": "code",
      "source": [
        "class BankAccount:\n",
        "    def __init__(self, account_holder, initial_balance=0):\n",
        "        self.account_holder = account_holder\n",
        "        self.__balance = initial_balance  # Private attribute (Encapsulation)\n",
        "\n",
        "    # Method to deposit money\n",
        "    def deposit(self, amount):\n",
        "        if amount > 0:\n",
        "            self.__balance += amount\n",
        "            print(f\"Deposited: ${amount}\")\n",
        "        else:\n",
        "            print(\"Deposit amount must be positive.\")\n",
        "\n",
        "    # Method to withdraw money\n",
        "    def withdraw(self, amount):\n",
        "        if 0 < amount <= self.__balance:\n",
        "            self.__balance -= amount\n",
        "            print(f\"Withdrawn: ${amount}\")\n",
        "        else:\n",
        "            print(\"Insufficient balance or invalid amount.\")\n",
        "\n",
        "    # Method to check balance\n",
        "    def get_balance(self):\n",
        "        return f\"Current Balance: ${self.__balance}\"\n",
        "\n",
        "# Creating an account\n",
        "account = BankAccount(\"Alice\", 1000)\n",
        "\n",
        "# Accessing methods\n",
        "account.deposit(500)\n",
        "print(account.get_balance())\n",
        "\n",
        "account.withdraw(200)\n",
        "print(account.get_balance())\n"
      ],
      "metadata": {
        "colab": {
          "base_uri": "https://localhost:8080/"
        },
        "id": "-d44qmz_m_9J",
        "outputId": "14bfae33-64ce-45b0-e4d3-673540c0a5de"
      },
      "execution_count": 7,
      "outputs": [
        {
          "output_type": "stream",
          "name": "stdout",
          "text": [
            "Deposited: $500\n",
            "Current Balance: $1500\n",
            "Withdrawn: $200\n",
            "Current Balance: $1300\n"
          ]
        }
      ]
    },
    {
      "cell_type": "markdown",
      "source": [
        "6-Demonstrate runtime polymorphism using a method play() in a base class Instrument. Derive classes Guitar and Piano that implement their own version of play()."
      ],
      "metadata": {
        "id": "Bb1pVASKnHs7"
      }
    },
    {
      "cell_type": "code",
      "source": [
        "\n",
        "# Base class\n",
        "class Instrument:\n",
        "    def play(self):\n",
        "        print(\"Playing an instrument.\")\n",
        "\n",
        "# Derived class: Guitar\n",
        "class Guitar(Instrument):\n",
        "    def play(self):\n",
        "        print(\"Strumming the guitar 🎸!\")\n",
        "\n",
        "# Derived class: Piano\n",
        "class Piano(Instrument):\n",
        "    def play(self):\n",
        "        print(\"Playing the piano 🎹!\")\n",
        "\n",
        "# Function to demonstrate runtime polymorphism\n",
        "def play_instrument(instrument):\n",
        "    instrument.play()  # Calls the overridden method dynamically\n",
        "\n",
        "# Creating objects\n",
        "guitar = Guitar()\n",
        "piano = Piano()\n",
        "\n",
        "# Calling function with different instrument objects\n",
        "play_instrument(guitar)\n",
        "play_instrument(piano)\n",
        ""
      ],
      "metadata": {
        "colab": {
          "base_uri": "https://localhost:8080/"
        },
        "id": "_z8qdedEnGCT",
        "outputId": "9788417f-f619-4f90-aed1-57831adc61f8"
      },
      "execution_count": 8,
      "outputs": [
        {
          "output_type": "stream",
          "name": "stdout",
          "text": [
            "Strumming the guitar 🎸!\n",
            "Playing the piano 🎹!\n"
          ]
        }
      ]
    },
    {
      "cell_type": "markdown",
      "source": [
        "7-Create a class MathOperations with a class method add_numbers() to add two numbers and a static method subtract_numbers() to subtract two numbers."
      ],
      "metadata": {
        "id": "_lq41T9tnNKl"
      }
    },
    {
      "cell_type": "code",
      "source": [
        "class MathOperations:\n",
        "    # Class method\n",
        "    @classmethod\n",
        "    def add_numbers(cls, a, b):\n",
        "        return a + b\n",
        "\n",
        "    # Static method\n",
        "    @staticmethod\n",
        "    def subtract_numbers(a, b):\n",
        "        return a - b\n",
        "\n",
        "# Using class method\n",
        "sum_result = MathOperations.add_numbers(10, 5)\n",
        "print(f\"Sum: {sum_result}\")  # Output: Sum: 15\n",
        "\n",
        "# Using static method\n",
        "difference_result = MathOperations.subtract_numbers(10, 5)\n",
        "print(f\"Difference: {difference_result}\")"
      ],
      "metadata": {
        "colab": {
          "base_uri": "https://localhost:8080/"
        },
        "id": "4VLQEnXlnMN9",
        "outputId": "03cb978c-dbb8-46c0-ca62-0e00c58c7794"
      },
      "execution_count": 9,
      "outputs": [
        {
          "output_type": "stream",
          "name": "stdout",
          "text": [
            "Sum: 15\n",
            "Difference: 5\n"
          ]
        }
      ]
    },
    {
      "cell_type": "markdown",
      "source": [
        "8-Implement a class Person with a class method to count the total number of persons created.\n"
      ],
      "metadata": {
        "id": "rPW4EwrGnYSh"
      }
    },
    {
      "cell_type": "code",
      "source": [
        "class Person:\n",
        "    count = 0\n",
        "\n",
        "    def __init__(self, name):\n",
        "        self.name = name\n",
        "        Person.count += 1\n",
        "\n",
        "    @classmethod\n",
        "    def total_persons(cls):\n",
        "        return f\"Total persons created: {cls.count}\"\n",
        "\n",
        "p1 = Person(\"Alice\")\n",
        "p2 = Person(\"Bob\")\n",
        "p3 = Person(\"Charlie\")\n",
        "\n",
        "print(Person.total_persons())"
      ],
      "metadata": {
        "colab": {
          "base_uri": "https://localhost:8080/"
        },
        "id": "75Co8EwinWyM",
        "outputId": "04d7ca31-5a6e-496a-d101-500832ddc20d"
      },
      "execution_count": 11,
      "outputs": [
        {
          "output_type": "stream",
          "name": "stdout",
          "text": [
            "Total persons created: 3\n"
          ]
        }
      ]
    },
    {
      "cell_type": "markdown",
      "source": [
        "9-Write a class Fraction with attributes numerator and denominator. Override the str method to display the fraction as \"numerator/denominator\"."
      ],
      "metadata": {
        "id": "1GYFimJdncpg"
      }
    },
    {
      "cell_type": "code",
      "source": [
        "class Fraction:\n",
        "    def __init__(self, numerator, denominator):\n",
        "        self.numerator = numerator\n",
        "        self.denominator = denominator\n",
        "\n",
        "    def __str__(self):\n",
        "        return f\"{self.numerator}/{self.denominator}\"\n",
        "\n",
        "frac1 = Fraction(3, 4)\n",
        "frac2 = Fraction(5, 8)\n",
        "\n",
        "print(frac1)\n",
        "print(frac2)\n"
      ],
      "metadata": {
        "colab": {
          "base_uri": "https://localhost:8080/"
        },
        "id": "tvr2pavMnbvH",
        "outputId": "98eec7be-d858-4764-ae21-ab8e1646e511"
      },
      "execution_count": 12,
      "outputs": [
        {
          "output_type": "stream",
          "name": "stdout",
          "text": [
            "3/4\n",
            "5/8\n"
          ]
        }
      ]
    },
    {
      "cell_type": "markdown",
      "source": [
        "10-Demonstrate operator overloading by creating a class Vector and overriding the add method to add two vectors"
      ],
      "metadata": {
        "id": "uP78aApYnhjS"
      }
    },
    {
      "cell_type": "code",
      "source": [
        "class Vector:\n",
        "    def __init__(self, x, y):\n",
        "        self.x = x\n",
        "        self.y = y\n",
        "\n",
        "    def __add__(self, other):\n",
        "        return Vector(self.x + other.x, self.y + other.y)\n",
        "\n",
        "    def __str__(self):\n",
        "        return f\"({self.x}, {self.y})\"\n",
        "\n",
        "v1 = Vector(2, 3)\n",
        "v2 = Vector(4, 5)\n",
        "\n",
        "v3 = v1 + v2\n",
        "\n",
        "print(v3)"
      ],
      "metadata": {
        "colab": {
          "base_uri": "https://localhost:8080/"
        },
        "id": "yb3NpapMngt7",
        "outputId": "3e10bd33-7f08-4480-b7fc-bf5bf1ac3b2e"
      },
      "execution_count": 13,
      "outputs": [
        {
          "output_type": "stream",
          "name": "stdout",
          "text": [
            "(6, 8)\n"
          ]
        }
      ]
    },
    {
      "cell_type": "markdown",
      "source": [
        "11-Create a class Person with attributes name and age. Add a method greet() that prints \"Hello, my name is {name} and I am {age} years old.\""
      ],
      "metadata": {
        "id": "QOn1K89qnpi7"
      }
    },
    {
      "cell_type": "code",
      "source": [
        "class Person:\n",
        "    def __init__(self, name, age):\n",
        "        self.name = name\n",
        "        self.age = age\n",
        "\n",
        "    def greet(self):\n",
        "        print(f\"Hello, my name is {self.name} and I am {self.age} years old.\")\n",
        "\n",
        "person1 = Person(\"Alice\", 25)\n",
        "\n",
        "person1.greet()\n"
      ],
      "metadata": {
        "colab": {
          "base_uri": "https://localhost:8080/"
        },
        "id": "HHFZF_jlnouc",
        "outputId": "ab7076dd-c554-45b9-c795-56a812225719"
      },
      "execution_count": 14,
      "outputs": [
        {
          "output_type": "stream",
          "name": "stdout",
          "text": [
            "Hello, my name is Alice and I am 25 years old.\n"
          ]
        }
      ]
    },
    {
      "cell_type": "markdown",
      "source": [
        "12-Implement a class Student with attributes name and grades. Create a method average_grade() to compute the average of the grades."
      ],
      "metadata": {
        "id": "VcChhfIFnyYH"
      }
    },
    {
      "cell_type": "code",
      "source": [
        "class Student:\n",
        "    def __init__(self, name, grades):\n",
        "        self.name = name\n",
        "        self.grades = grades  # List of grades\n",
        "\n",
        "    def average_grade(self):\n",
        "        if self.grades:\n",
        "            return sum(self.grades) / len(self.grades)\n",
        "        return 0\n",
        "\n",
        "student1 = Student(\"John\", [85, 90, 78, 92, 88])\n",
        "\n",
        "print(f\"{student1.name}'s average grade: {student1.average_grade():.2f}\")"
      ],
      "metadata": {
        "colab": {
          "base_uri": "https://localhost:8080/"
        },
        "id": "tx9zzqRQnuND",
        "outputId": "7c65c7a6-7434-4e80-f335-07d2300bce42"
      },
      "execution_count": 15,
      "outputs": [
        {
          "output_type": "stream",
          "name": "stdout",
          "text": [
            "John's average grade: 86.60\n"
          ]
        }
      ]
    },
    {
      "cell_type": "markdown",
      "source": [
        "13-Create a class Rectangle with methods set_dimensions() to set the dimensions and area() to calculate the area."
      ],
      "metadata": {
        "id": "_Z7JNHVTn27z"
      }
    },
    {
      "cell_type": "code",
      "source": [
        "class Rectangle:\n",
        "    def __init__(self):\n",
        "        self.length = 0\n",
        "        self.width = 0\n",
        "\n",
        "    def set_dimensions(self, length, width):\n",
        "        self.length = length\n",
        "        self.width = width\n",
        "\n",
        "    def area(self):\n",
        "        return self.length * self.width\n",
        "\n",
        "rect = Rectangle()\n",
        "\n",
        "rect.set_dimensions(5, 10)\n",
        "\n",
        "print(f\"Rectangle Area: {rect.area()}\")\n"
      ],
      "metadata": {
        "colab": {
          "base_uri": "https://localhost:8080/"
        },
        "id": "J1VL34nzn2Es",
        "outputId": "f8c4cf1a-8b07-42a9-b5c2-8a5de5d5572b"
      },
      "execution_count": 16,
      "outputs": [
        {
          "output_type": "stream",
          "name": "stdout",
          "text": [
            "Rectangle Area: 50\n"
          ]
        }
      ]
    },
    {
      "cell_type": "markdown",
      "source": [
        "14-Create a class Employee with a method calculate_salary() that computes the salary based on hours worked and hourly rate. Create a derived class Manager that adds a bonus to the salary."
      ],
      "metadata": {
        "id": "vO7oYRE1n9Fn"
      }
    },
    {
      "cell_type": "code",
      "source": [
        "class Employee:\n",
        "    def __init__(self, name, hours_worked, hourly_rate):\n",
        "        self.name = name\n",
        "        self.hours_worked = hours_worked\n",
        "        self.hourly_rate = hourly_rate\n",
        "\n",
        "    def calculate_salary(self):\n",
        "        return self.hours_worked * self.hourly_rate\n",
        "\n",
        "class Manager(Employee):\n",
        "    def __init__(self, name, hours_worked, hourly_rate, bonus):\n",
        "        super().__init__(name, hours_worked, hourly_rate)\n",
        "        self.bonus = bonus\n",
        "\n",
        "    def calculate_salary(self):\n",
        "        return super().calculate_salary() + self.bonus\n",
        "\n",
        "emp = Employee(\"John\", 40, 20)\n",
        "mgr = Manager(\"Alice\", 40, 30, 500)\n",
        "\n",
        "print(f\"{emp.name}'s Salary: ${emp.calculate_salary()}\")\n",
        "print(f\"{mgr.name}'s Salary: ${mgr.calculate_salary()}\")\n"
      ],
      "metadata": {
        "colab": {
          "base_uri": "https://localhost:8080/"
        },
        "id": "SNifk82ln75f",
        "outputId": "87c9a506-641e-499d-d882-d13cedaa0732"
      },
      "execution_count": 17,
      "outputs": [
        {
          "output_type": "stream",
          "name": "stdout",
          "text": [
            "John's Salary: $800\n",
            "Alice's Salary: $1700\n"
          ]
        }
      ]
    },
    {
      "cell_type": "markdown",
      "source": [
        "15-Create a class Product with attributes name, price, and quantity. Implement a method total_price() that calculates the total price of the product."
      ],
      "metadata": {
        "id": "Kz5Uo5zMoDgO"
      }
    },
    {
      "cell_type": "code",
      "source": [
        "class Product:\n",
        "    def __init__(self, name, price, quantity):\n",
        "        self.name = name\n",
        "        self.price = price\n",
        "        self.quantity = quantity\n",
        "\n",
        "    def total_price(self):\n",
        "        return self.price * self.quantity\n",
        "\n",
        "product1 = Product(\"Laptop\", 800, 2)\n",
        "\n",
        "print(f\"Total price for {product1.quantity} {product1.name}(s): ${product1.total_price()}\")"
      ],
      "metadata": {
        "colab": {
          "base_uri": "https://localhost:8080/"
        },
        "id": "toXxAtCCoCc0",
        "outputId": "c8c8edcb-007f-43b0-a440-3be95f64b789"
      },
      "execution_count": 18,
      "outputs": [
        {
          "output_type": "stream",
          "name": "stdout",
          "text": [
            "Total price for 2 Laptop(s): $1600\n"
          ]
        }
      ]
    },
    {
      "cell_type": "markdown",
      "source": [
        "16-Create a class Animal with an abstract method sound(). Create two derived classes Cow and Sheep that implement the sound() method."
      ],
      "metadata": {
        "id": "OEdGjx6hoLNi"
      }
    },
    {
      "cell_type": "code",
      "source": [
        "from abc import ABC, abstractmethod\n",
        "\n",
        "class Animal(ABC):\n",
        "    @abstractmethod\n",
        "    def sound(self):\n",
        "        pass\n",
        "\n",
        "class Cow(Animal):\n",
        "    def sound(self):\n",
        "        return \"Moo!\"\n",
        "\n",
        "class Sheep(Animal):\n",
        "    def sound(self):\n",
        "        return \"Baa!\"\n",
        "\n",
        "cow = Cow()\n",
        "sheep = Sheep()\n",
        "\n",
        "print(f\"Cow: {cow.sound()}\")\n",
        "print(f\"Sheep: {sheep.sound()}\")\n"
      ],
      "metadata": {
        "colab": {
          "base_uri": "https://localhost:8080/"
        },
        "id": "YTufZVBmoJnK",
        "outputId": "c38f7d69-97e8-4b7d-b583-834defd45f96"
      },
      "execution_count": 19,
      "outputs": [
        {
          "output_type": "stream",
          "name": "stdout",
          "text": [
            "Cow: Moo!\n",
            "Sheep: Baa!\n"
          ]
        }
      ]
    },
    {
      "cell_type": "markdown",
      "source": [
        "17-Create a class Book with attributes title, author, and year_published. Add a method get_book_info() that returns a formatted string with the book's details."
      ],
      "metadata": {
        "id": "43iuQJuIoRMd"
      }
    },
    {
      "cell_type": "code",
      "source": [
        "class Book:\n",
        "    def __init__(self, title, author, year_published):\n",
        "        self.title = title\n",
        "        self.author = author\n",
        "        self.year_published = year_published\n",
        "\n",
        "    def get_book_info(self):\n",
        "        return f\"'{self.title}' by {self.author}, published in {self.year_published}.\"\n",
        "\n",
        "book1 = Book(\"To Kill a Mockingbird\", \"Harper Lee\", 1960)\n",
        "\n",
        "print(book1.get_book_info())"
      ],
      "metadata": {
        "colab": {
          "base_uri": "https://localhost:8080/"
        },
        "id": "WBU7ZhrgoP3D",
        "outputId": "591432e0-a291-4375-f693-b472a96e6ebd"
      },
      "execution_count": 20,
      "outputs": [
        {
          "output_type": "stream",
          "name": "stdout",
          "text": [
            "'To Kill a Mockingbird' by Harper Lee, published in 1960.\n"
          ]
        }
      ]
    },
    {
      "cell_type": "markdown",
      "source": [
        "18-Create a class House with attributes address and price. Create a derived class Mansion that adds an attribute number_of_rooms."
      ],
      "metadata": {
        "id": "CxqPlQRkoWZg"
      }
    },
    {
      "cell_type": "code",
      "source": [
        "class House:\n",
        "    def __init__(self, address, price):\n",
        "        self.address = address\n",
        "        self.price = price\n",
        "\n",
        "    def get_details(self):\n",
        "        return f\"Address: {self.address}, Price: ${self.price}\"\n",
        "\n",
        "class Mansion(House):\n",
        "    def __init__(self, address, price, number_of_rooms):\n",
        "        super().__init__(address, price)\n",
        "        self.number_of_rooms = number_of_rooms\n",
        "\n",
        "    def get_details(self):\n",
        "        return f\"Address: {self.address}, Price: ${self.price}, Rooms: {self.number_of_rooms}\"\n",
        "\n",
        "house1 = House(\"123 Main St\", 250000)\n",
        "mansion1 = Mansion(\"456 Luxury Ave\", 5000000, 15)\n",
        "\n",
        "print(house1.get_details())\n",
        "print(mansion1.get_details())\n"
      ],
      "metadata": {
        "colab": {
          "base_uri": "https://localhost:8080/"
        },
        "id": "vjm52klioVWO",
        "outputId": "6f791f25-ade5-4558-819e-91a330683ebb"
      },
      "execution_count": 21,
      "outputs": [
        {
          "output_type": "stream",
          "name": "stdout",
          "text": [
            "Address: 123 Main St, Price: $250000\n",
            "Address: 456 Luxury Ave, Price: $5000000, Rooms: 15\n"
          ]
        }
      ]
    },
    {
      "cell_type": "code",
      "source": [],
      "metadata": {
        "id": "OPK1KpX-obdK"
      },
      "execution_count": null,
      "outputs": []
    }
  ]
}