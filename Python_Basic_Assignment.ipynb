{
  "nbformat": 4,
  "nbformat_minor": 0,
  "metadata": {
    "colab": {
      "provenance": []
    },
    "kernelspec": {
      "name": "python3",
      "display_name": "Python 3"
    },
    "language_info": {
      "name": "python"
    }
  },
  "cells": [
    {
      "cell_type": "markdown",
      "source": [
        "**PYTHON BASIC ASSIGNMENT**"
      ],
      "metadata": {
        "id": "nKmFep7GxnLi"
      }
    },
    {
      "cell_type": "markdown",
      "source": [
        "1- What is Python, and why is it popular ?\n",
        "\n",
        "ANS-  \n",
        "   \n",
        "  Python is an interpreted, high-level programming language that is easy to read and simple to use. Python was developed by Guido van Rossum and initially released in 1991. Python has numerous applications for web development, data science, artificial intelligence, machine learning, automation, and scripting, among others.\n",
        "\n",
        "2- What is an interpreter in Python ?\n",
        "\n",
        "ANS-\n",
        "\n",
        "An interpreter in Python is a program that reads and executes Python code. Unlike a compiler, which translates the entire code into machine code all at once, an interpreter reads the Python code line by line, translates it into an intermediate representation, and then executes it.\n",
        "\n",
        "3- What are pre-defined keywords in Python ?\n",
        "\n",
        "ANS-\n",
        "\n",
        "Pre-defined keywords in Python are reserved words that have special meanings and cannot be used as variable names, function names, or identifiers. These keywords are used to define the syntax and structure of the Python language.\\\n",
        "\n",
        "4- Can keywords be used as variable names ?\n",
        "\n",
        "ANS-\n",
        "\n",
        "No, Python keywords can't be used as variable names since they are reserved for particular functions in the language. Using a keyword as a variable name will raise a SyntaxError.\n",
        "\n",
        "5- What is mutability in Python ?\n",
        "\n",
        "ANS-\n",
        "\n",
        "Mutability in Python refers to whether an object can be modified after creation.\n",
        "\n",
        "6- Why are lists mutable, but tuples are immutable ?\n",
        "\n",
        "ANS-\n",
        "\n",
        "The key difference between lists and tuples in Python is how they handle modifications after creation.\n",
        "\n",
        "Lists allow modifications like adding, removing, or changing elements.\n",
        "\n",
        "They are stored in memory as dynamic objects, meaning their size can change.\n",
        "\n",
        "Tuples do not allow modifications after creation.\n",
        "\n",
        "They are stored as fixed-sized objects in memory for efficiency.\n",
        "\n",
        "7- What is the difference between “==” and “is” operators in Python ?\n",
        "\n",
        "ANS-\n",
        "\n",
        "== (Equality operator)\n",
        "Compares the values of two objects.\n",
        "Returns True if the objects have the same value, False otherwise.\n",
        "  \n",
        "   is (Identity Operator):\n",
        "Checks if two variables refer to the same object in memory.\n",
        "Returns True if the variables point to the same object, False otherwise.\n",
        "\n",
        "8- What are logical operators in Python ?\n",
        "\n",
        "ANS-\n",
        "Logical operators in Python are used to combine conditional statements. They return True or False based on logical conditions.\n",
        "\n",
        "9-What is type casting in Python ?\n",
        "\n",
        "ANS-\n",
        "Type casting (also referred to as type conversion) is the conversion of one data type to another in Python. Python offers two categories of type casting:\n",
        "\n",
        "Implicit Type Casting (Python automatically converts) Explicit Type Casting (Data types are converted manually)\n",
        "\n",
        "10- What is the difference between implicit and explicit type casting ?\n",
        "\n",
        "ANS-\n",
        "\n",
        "Implicit type casting or widening conversion occurs automatically by the compiler when the conversion from a small data type to a larger one, while explicit type casting or narrowing conversion needs to be done manually by the programmer when there is a conversion from a large data type to a small one.\n",
        "\n",
        "11- What is the purpose of conditional statements in Python ?\n",
        "\n",
        "ANS-\n",
        "\n",
        "Conditional statements direct the flow of a program by enabling, according to conditions, it can make decisions.\n",
        "\n",
        "They assist Python in executing various blocks of code if a. condition is True or False.\n",
        "\n",
        "12-  How does the elif statement work ?\n",
        "\n",
        "ANS-\n",
        "\n",
        "The elif (an abbreviation of \"else if\") statement is called when there are several conditions to test in turn. It helps the program examine several cases and execute the initial block where the condition is satisfied and bypass the rest.\n",
        "\n",
        "13- What is the difference between for and while loops\n",
        "\n",
        "ANS-\n",
        "\n",
        "The only difference between for and while loops is that for loops are employed when you already know the number of iterations, whereas while loops are employed when the number of iterations is based on a condition that might not be known in advance.\n",
        "\n",
        "14- Describe a scenario where a while loop is more suitable than a for loop.?\n",
        "\n",
        "ANS-\n",
        "\n",
        "A while loop is ideal when we don’t know in advance how many times the loop should run.\n",
        "\n"
      ],
      "metadata": {
        "id": "9C3FeE8Ax36P"
      }
    },
    {
      "cell_type": "markdown",
      "source": [
        "**PRACTICAL QUESTIONS**"
      ],
      "metadata": {
        "id": "-NaYuL0n0jq-"
      }
    },
    {
      "cell_type": "markdown",
      "source": [
        "1 Write a Python program to print \"Hello, World!y"
      ],
      "metadata": {
        "id": "wj1RX0iO0tE0"
      }
    },
    {
      "cell_type": "code",
      "source": [
        "print (\"Hello,  world!\")\n",
        "\n"
      ],
      "metadata": {
        "colab": {
          "base_uri": "https://localhost:8080/"
        },
        "id": "x8QcBD6wxpKq",
        "outputId": "47cb6b54-1311-483a-da9a-1b90f7791440"
      },
      "execution_count": 5,
      "outputs": [
        {
          "output_type": "stream",
          "name": "stdout",
          "text": [
            "Hello,  world!\n"
          ]
        }
      ]
    },
    {
      "cell_type": "markdown",
      "source": [
        "2-Write a Python program that displays your name and age"
      ],
      "metadata": {
        "id": "NF_cyJnR1UIH"
      }
    },
    {
      "cell_type": "code",
      "source": [
        "name = \"Yashi Gupta\"\n",
        "age = 27\n",
        "\n",
        "print(\"My name is\", name)\n",
        "print(\"I am\", age, \"years old\")\n"
      ],
      "metadata": {
        "colab": {
          "base_uri": "https://localhost:8080/"
        },
        "id": "T3r06MZG1Rhv",
        "outputId": "e2805609-603f-4995-c701-7dfb8be5d199"
      },
      "execution_count": 9,
      "outputs": [
        {
          "output_type": "stream",
          "name": "stdout",
          "text": [
            "My name is Yashi Gupta\n",
            "I am 27 years old\n"
          ]
        }
      ]
    },
    {
      "cell_type": "markdown",
      "source": [
        "3- Write code to print all the pre-defined keywords in Python using the keyword library8"
      ],
      "metadata": {
        "id": "VZoInUJV1cQn"
      }
    },
    {
      "cell_type": "code",
      "source": [
        "import keyword\n",
        "\n",
        "print(\"Python Keywords:\")\n",
        "print(keyword.kwlist)\n"
      ],
      "metadata": {
        "colab": {
          "base_uri": "https://localhost:8080/"
        },
        "id": "LCne74lC1a7T",
        "outputId": "7422527e-1d90-4c88-d385-7a2215bafe98"
      },
      "execution_count": 10,
      "outputs": [
        {
          "output_type": "stream",
          "name": "stdout",
          "text": [
            "Python Keywords:\n",
            "['False', 'None', 'True', 'and', 'as', 'assert', 'async', 'await', 'break', 'class', 'continue', 'def', 'del', 'elif', 'else', 'except', 'finally', 'for', 'from', 'global', 'if', 'import', 'in', 'is', 'lambda', 'nonlocal', 'not', 'or', 'pass', 'raise', 'return', 'try', 'while', 'with', 'yield']\n"
          ]
        }
      ]
    },
    {
      "cell_type": "markdown",
      "source": [
        "3- Write a program that checks if a given word is a Python keyword."
      ],
      "metadata": {
        "id": "fgwUFkD81lnm"
      }
    },
    {
      "cell_type": "code",
      "source": [
        "import keyword\n",
        "\n",
        "word = input(\"Enter a word: \")\n",
        "\n",
        "if keyword.iskeyword(word):\n",
        "    print(f\"'{word}' is a Python keyword.\")\n",
        "else:\n",
        "    print(f\"'{word}' is NOT a Python keyword.\")\n"
      ],
      "metadata": {
        "colab": {
          "base_uri": "https://localhost:8080/"
        },
        "id": "183_Kc-i1j00",
        "outputId": "9c203d92-c9f3-427b-a403-9a53e434eb1f"
      },
      "execution_count": 11,
      "outputs": [
        {
          "output_type": "stream",
          "name": "stdout",
          "text": [
            "Enter a word: while\n",
            "'while' is a Python keyword.\n"
          ]
        }
      ]
    },
    {
      "cell_type": "markdown",
      "source": [
        "4- Create a list and tuple in Python, and demonstrate how attempting to change an element works differently\n",
        "for each."
      ],
      "metadata": {
        "id": "1Iy9oeU-1xpZ"
      }
    },
    {
      "cell_type": "code",
      "source": [
        "my_list = [1, 2, 3, 4]\n",
        "print(\"Original List:\", my_list)\n",
        "\n",
        "my_list[1] = 99\n",
        "print(\"Modified List:\", my_list)\n",
        "\n",
        "my_tuple = (1, 2, 3, 4)\n",
        "print(\"\\nOriginal Tuple:\", my_tuple)\n",
        "\n",
        "try:\n",
        "    my_tuple[1] = 99\n",
        "except TypeError as e:\n",
        "    print(\"Error:\", e)\n"
      ],
      "metadata": {
        "colab": {
          "base_uri": "https://localhost:8080/"
        },
        "id": "jXYqn2Ta1uE3",
        "outputId": "71764b00-0bc7-4551-bc9e-5b203edfe44b"
      },
      "execution_count": 12,
      "outputs": [
        {
          "output_type": "stream",
          "name": "stdout",
          "text": [
            "Original List: [1, 2, 3, 4]\n",
            "Modified List: [1, 99, 3, 4]\n",
            "\n",
            "Original Tuple: (1, 2, 3, 4)\n",
            "Error: 'tuple' object does not support item assignment\n"
          ]
        }
      ]
    },
    {
      "cell_type": "markdown",
      "source": [
        " 5- Write a function to demonstrate the behavior of mutable and immutable arguments."
      ],
      "metadata": {
        "id": "yzByBPJB16Lz"
      }
    },
    {
      "cell_type": "code",
      "source": [
        "def modify_values(immutable, mutable):\n",
        "    print(\"\\nInside Function:\")\n",
        "\n",
        "    immutable += 10\n",
        "    print(\"Immutable (Modified Inside):\", immutable)\n",
        "\n",
        "    mutable.append(99)\n",
        "    print(\"Mutable (Modified Inside):\", mutable)\n",
        "\n",
        "num = 5\n",
        "num_list = [1, 2, 3]\n",
        "\n",
        "print(\"Before Function Call:\")\n",
        "print(\"Immutable:\", num)\n",
        "print(\"Mutable:\", num_list)\n",
        "\n",
        "modify_values(num, num_list)\n",
        "\n",
        "print(\"\\nAfter Function Call:\")\n",
        "print(\"Immutable (Outside):\", num)\n",
        "print(\"Mutable (Outside):\", num_list)"
      ],
      "metadata": {
        "colab": {
          "base_uri": "https://localhost:8080/"
        },
        "id": "NLFSzGA61345",
        "outputId": "f3541e1f-98ac-4db9-8b8d-0eaac1b2326d"
      },
      "execution_count": 13,
      "outputs": [
        {
          "output_type": "stream",
          "name": "stdout",
          "text": [
            "Before Function Call:\n",
            "Immutable: 5\n",
            "Mutable: [1, 2, 3]\n",
            "\n",
            "Inside Function:\n",
            "Immutable (Modified Inside): 15\n",
            "Mutable (Modified Inside): [1, 2, 3, 99]\n",
            "\n",
            "After Function Call:\n",
            "Immutable (Outside): 5\n",
            "Mutable (Outside): [1, 2, 3, 99]\n"
          ]
        }
      ]
    },
    {
      "cell_type": "markdown",
      "source": [
        "6- Write a program that performs basic arithmetic operations on two user-input numbers."
      ],
      "metadata": {
        "id": "8vlramEn2KfZ"
      }
    },
    {
      "cell_type": "code",
      "source": [
        "num1 = float(input(\"Enter first number: \"))\n",
        "num2 = float(input(\"Enter second number: \"))\n",
        "\n",
        "addition = num1 + num2\n",
        "subtraction = num1 - num2\n",
        "multiplication = num1 * num2\n",
        "\n",
        "if num2 != 0:\n",
        "    division = num1 / num2\n",
        "    modulus = num1 % num2\n",
        "else:\n",
        "    division = \"Undefined (division by zero)\"\n",
        "    modulus = \"Undefined (modulus by zero)\"\n",
        "\n",
        "print(\"\\nResults:\")\n",
        "print(f\"Addition: {num1} + {num2} = {addition}\")\n",
        "print(f\"Subtraction: {num1} - {num2} = {subtraction}\")\n",
        "print(f\"Multiplication: {num1} × {num2} = {multiplication}\")\n",
        "print(f\"Division: {num1} ÷ {num2} = {division}\")\n",
        "print(f\"Modulus: {num1} % {num2} = {modulus}\")\n"
      ],
      "metadata": {
        "colab": {
          "base_uri": "https://localhost:8080/"
        },
        "id": "_6DGH1Kk2EPm",
        "outputId": "d7ff7922-4d8b-4fa5-c6c5-c30c08203303"
      },
      "execution_count": 14,
      "outputs": [
        {
          "output_type": "stream",
          "name": "stdout",
          "text": [
            "Enter first number: 23\n",
            "Enter second number: 34\n",
            "\n",
            "Results:\n",
            "Addition: 23.0 + 34.0 = 57.0\n",
            "Subtraction: 23.0 - 34.0 = -11.0\n",
            "Multiplication: 23.0 × 34.0 = 782.0\n",
            "Division: 23.0 ÷ 34.0 = 0.6764705882352942\n",
            "Modulus: 23.0 % 34.0 = 23.0\n"
          ]
        }
      ]
    },
    {
      "cell_type": "markdown",
      "source": [
        " 8 - Write a program to demonstrate the use of logical operators."
      ],
      "metadata": {
        "id": "4bZAecsG2aAV"
      }
    },
    {
      "cell_type": "code",
      "source": [
        "a = int(input(\"Enter first number: \"))\n",
        "b = int(input(\"Enter second number: \"))\n",
        "\n",
        "print(\"\\nLogical Operators Demonstration:\")\n",
        "\n",
        "print(f\"({a} > 0 and {b} > 0) →\", (a > 0 and b > 0))\n",
        "\n",
        "print(f\"({a} > 0 or {b} > 0) →\", (a > 0 or b > 0))\n",
        "\n",
        "print(f\"not({a} > 0) →\", not (a > 0))\n"
      ],
      "metadata": {
        "colab": {
          "base_uri": "https://localhost:8080/"
        },
        "id": "dANoQA3F2bTL",
        "outputId": "bff8056c-9f99-4228-aafb-c5cd57db6902"
      },
      "execution_count": 15,
      "outputs": [
        {
          "output_type": "stream",
          "name": "stdout",
          "text": [
            "Enter first number: 12\n",
            "Enter second number: 23\n",
            "\n",
            "Logical Operators Demonstration:\n",
            "(12 > 0 and 23 > 0) → True\n",
            "(12 > 0 or 23 > 0) → True\n",
            "not(12 > 0) → False\n"
          ]
        }
      ]
    },
    {
      "cell_type": "markdown",
      "source": [
        "9-Write a Python program to convert user input from string to integer, float, and boolean types."
      ],
      "metadata": {
        "id": "clwdBLAu2kDZ"
      }
    },
    {
      "cell_type": "code",
      "source": [
        "user_input = input(\"Enter a value: \")\n",
        "\n",
        "try:\n",
        "    int_value = int(user_input)\n",
        "    print(f\"Integer: {int_value}\")\n",
        "except ValueError:\n",
        "    print(\"Cannot convert to Integer.\")\n",
        "\n",
        "try:\n",
        "    float_value = float(user_input)\n",
        "    print(f\"Float: {float_value}\")\n",
        "except ValueError:\n",
        "    print(\"Cannot convert to Float.\")\n",
        "\n",
        "bool_value = bool(user_input)\n",
        "print(f\"Boolean: {bool_value}\")"
      ],
      "metadata": {
        "colab": {
          "base_uri": "https://localhost:8080/"
        },
        "id": "t9A3f-oZ2hSR",
        "outputId": "841eedf2-cad1-415e-db94-2fbc3868d380"
      },
      "execution_count": 16,
      "outputs": [
        {
          "output_type": "stream",
          "name": "stdout",
          "text": [
            "Enter a value: 12\n",
            "Integer: 12\n",
            "Float: 12.0\n",
            "Boolean: True\n"
          ]
        }
      ]
    },
    {
      "cell_type": "markdown",
      "source": [
        " 10- Write code to demonstrate type casting with list elements"
      ],
      "metadata": {
        "id": "E5CLSnSY2sSP"
      }
    },
    {
      "cell_type": "code",
      "source": [
        "str_list = [\"10\", \"20.5\", \"0\", \"hello\", \"\"]\n",
        "\n",
        "int_list = []\n",
        "for item in str_list:\n",
        "    try:\n",
        "        int_list.append(int(item))\n",
        "    except ValueError:\n",
        "        int_list.append(None)\n",
        "\n",
        "float_list = []\n",
        "for item in str_list:\n",
        "    try:\n",
        "        float_list.append(float(item))\n",
        "    except ValueError:\n",
        "        float_list.append(None)\n",
        "\n",
        "bool_list = [bool(item) for item in str_list]\n",
        "\n",
        "print(\"Original List:\", str_list)\n",
        "print(\"Integer Conversion:\", int_list)\n",
        "print(\"Float Conversion:\", float_list)\n",
        "print(\"Boolean Conversion:\", bool_list)\n"
      ],
      "metadata": {
        "colab": {
          "base_uri": "https://localhost:8080/"
        },
        "id": "LTHxEC9V2qOM",
        "outputId": "31228243-5e4e-4775-b2f4-569e9a513aea"
      },
      "execution_count": 17,
      "outputs": [
        {
          "output_type": "stream",
          "name": "stdout",
          "text": [
            "Original List: ['10', '20.5', '0', 'hello', '']\n",
            "Integer Conversion: [10, None, 0, None, None]\n",
            "Float Conversion: [10.0, 20.5, 0.0, None, None]\n",
            "Boolean Conversion: [True, True, True, True, False]\n"
          ]
        }
      ]
    },
    {
      "cell_type": "markdown",
      "source": [
        " 11- Write a program that checks if a number is positive, negative, or zero.\n",
        "\n"
      ],
      "metadata": {
        "id": "Ex8ZdFor2zJy"
      }
    },
    {
      "cell_type": "code",
      "source": [
        "num = float(input(\"Enter a number: \"))\n",
        "\n",
        "if num > 0:\n",
        "    print(\"The number is Positive.\")\n",
        "elif num < 0:\n",
        "    print(\"The number is Negative.\")\n",
        "else:\n",
        "    print(\"The number is Zero.\")\n"
      ],
      "metadata": {
        "colab": {
          "base_uri": "https://localhost:8080/"
        },
        "id": "Qboutv8k2x_Q",
        "outputId": "6f51aa17-aabf-4bb2-9591-67cc1baf1822"
      },
      "execution_count": 18,
      "outputs": [
        {
          "output_type": "stream",
          "name": "stdout",
          "text": [
            "Enter a number: 12\n",
            "The number is Positive.\n"
          ]
        }
      ]
    },
    {
      "cell_type": "markdown",
      "source": [
        "12- Write a for loop to print numbers from 1 to 10."
      ],
      "metadata": {
        "id": "Eh0PLp1-27UW"
      }
    },
    {
      "cell_type": "code",
      "source": [
        "for num in range(1, 11):\n",
        "    print(num)"
      ],
      "metadata": {
        "colab": {
          "base_uri": "https://localhost:8080/"
        },
        "id": "0FoiO2oN25GO",
        "outputId": "f2404e72-455f-4d1a-a173-0af14b634a32"
      },
      "execution_count": 19,
      "outputs": [
        {
          "output_type": "stream",
          "name": "stdout",
          "text": [
            "1\n",
            "2\n",
            "3\n",
            "4\n",
            "5\n",
            "6\n",
            "7\n",
            "8\n",
            "9\n",
            "10\n"
          ]
        }
      ]
    },
    {
      "cell_type": "markdown",
      "source": [
        "13- Write a Python program to find the sum of all even numbers between 1 and 50."
      ],
      "metadata": {
        "id": "1Qe_DYV_3CdW"
      }
    },
    {
      "cell_type": "code",
      "source": [
        "sum_even = 0\n",
        "\n",
        "for num in range(2, 51, 2):\n",
        "    sum_even += num\n",
        "\n",
        "print(\"Sum of all even numbers between 1 and 50:\", sum_even)"
      ],
      "metadata": {
        "colab": {
          "base_uri": "https://localhost:8080/"
        },
        "id": "5mojuMLh3ATA",
        "outputId": "d311eeda-42a0-4a88-8e3d-814c01e0ac5d"
      },
      "execution_count": 20,
      "outputs": [
        {
          "output_type": "stream",
          "name": "stdout",
          "text": [
            "Sum of all even numbers between 1 and 50: 650\n"
          ]
        }
      ]
    },
    {
      "cell_type": "markdown",
      "source": [
        "14- Write a program to reverse a string using a while loop."
      ],
      "metadata": {
        "id": "0qev5qOS3Kz9"
      }
    },
    {
      "cell_type": "code",
      "source": [
        "text = input(\"Enter a string: \")\n",
        "\n",
        "reversed_text = \"\"\n",
        "index = len(text) - 1\n",
        "\n",
        "while index >= 0:\n",
        "    reversed_text += text[index]\n",
        "    index -= 1\n",
        "\n",
        "print(\"Reversed String:\", reversed_text)"
      ],
      "metadata": {
        "colab": {
          "base_uri": "https://localhost:8080/"
        },
        "id": "FqxKaSap3Joj",
        "outputId": "2a91ffd8-55b2-4939-98d9-2b8cf9c1bb3f"
      },
      "execution_count": 21,
      "outputs": [
        {
          "output_type": "stream",
          "name": "stdout",
          "text": [
            "Enter a string: hello\n",
            "Reversed String: olleh\n"
          ]
        }
      ]
    },
    {
      "cell_type": "markdown",
      "source": [
        "15- Write a Python program to calculate the factorial of a number provided by the user using a while loop."
      ],
      "metadata": {
        "id": "JAHUcSMQ3T4g"
      }
    },
    {
      "cell_type": "code",
      "source": [
        "num = int(input(\"Enter a number: \"))\n",
        "\n",
        "factorial = 1\n",
        "i = num\n",
        "\n",
        "while i > 0:\n",
        "    factorial *= i\n",
        "    i -= 1\n",
        "\n",
        "print(f\"Factorial of {num} is: {factorial}\")"
      ],
      "metadata": {
        "colab": {
          "base_uri": "https://localhost:8080/"
        },
        "id": "J0-M7DDx3Qhh",
        "outputId": "3e0f5617-6699-446f-8f45-0aecad062f15"
      },
      "execution_count": 22,
      "outputs": [
        {
          "output_type": "stream",
          "name": "stdout",
          "text": [
            "Enter a number: 23\n",
            "Factorial of 23 is: 25852016738884976640000\n"
          ]
        }
      ]
    },
    {
      "cell_type": "code",
      "source": [],
      "metadata": {
        "id": "ucqoJs5V3Yfu"
      },
      "execution_count": null,
      "outputs": []
    }
  ]
}