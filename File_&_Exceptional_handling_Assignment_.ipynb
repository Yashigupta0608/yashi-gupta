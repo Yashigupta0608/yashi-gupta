{
  "nbformat": 4,
  "nbformat_minor": 0,
  "metadata": {
    "colab": {
      "provenance": []
    },
    "kernelspec": {
      "name": "python3",
      "display_name": "Python 3"
    },
    "language_info": {
      "name": "python"
    }
  },
  "cells": [
    {
      "cell_type": "markdown",
      "source": [
        "**FILES AND EXCEPTIONAL HANDLING ASSIGNMENT**"
      ],
      "metadata": {
        "id": "DGqO1XysUqoi"
      }
    },
    {
      "cell_type": "markdown",
      "source": [
        "1- What is the difference between interpreted and compiled languages ?\n",
        "\n",
        "Ans-\n",
        "\n",
        "In compiled languages, the source code is translated into machine code (binary) by a compiler before it is run.\n",
        "In interpreted languages, the source code is not pre-compiled. Instead, an interpreter reads and executes the code line by line at runtime.\n"
      ],
      "metadata": {
        "id": "wBMfHMJqU-mu"
      }
    },
    {
      "cell_type": "markdown",
      "source": [
        "2-What is exception handling in Python ?\n",
        "\n",
        "Ans-\n",
        "\n",
        "Exception handling in Python is a way to manage errors that occur during the execution of a program. Instead of stopping the program when an error occurs, Python lets you \"catch\" and \"handle\" those errors gracefully\n",
        "\n",
        "3-What is the purpose of the finally block in exception handling ?\n",
        "\n",
        "ANS-\n",
        "\n",
        "The finally block in Python is used to define code that must be executed, no matter what — whether an exception occurred or not.\n",
        "\n",
        "4-What is logging in Python ?\n",
        "\n",
        "ANS-\n",
        "\n",
        "Logging in Python is the process of recording events, errors, warnings, or information that happens while a program runs. It helps debug, monitor, and track the behavior of an application.\n",
        "\n",
        "5-What is the significance of the del method in Python ?\n",
        "\n",
        "ANS-\n",
        "\n",
        "The del method in Python is a special (magic) method called a destructor. It is automatically called when an object is about to be destroyed (i.e., when it is garbage collected).\n",
        "\n",
        "6-What is the difference between import and from ... import in Python ?\n",
        "\n",
        "ANS-\n",
        "\n",
        "Both are used to include external modules in your Python program, but they work a bit differently.\n",
        "\n",
        "7-How can you handle multiple exceptions in Python ?\n",
        "\n",
        "ANS-\n",
        "\n",
        "Python allows you to handle multiple exceptions in a clean and organized way using multiple except blocks or a single block with multiple exceptions.\n",
        "\n",
        "8-What is the purpose of the with statement when handling files in Python ?\n",
        "\n",
        "ANS-\n",
        "\n",
        "The with statement in Python is used to simplify file handling by automatically managing resources like file streams.\n",
        "\n",
        "9-What is the difference between multithreading and multiprocessing ?\n",
        "\n",
        "ANS-\n",
        "\n",
        "Both multithreading and multiprocessing are used to perform concurrent (parallel) tasks, but they differ in how they do it and what problems they are best suited for.\n",
        "\n",
        "10-What are the advantages of using logging in a program ?\n",
        "\n",
        "ANS-\n",
        "\n",
        "Using logging instead of print() statements provides several important benefits, especially in large or production-level applications.\n",
        "\n",
        "11-What is memory management in Python ?\n",
        "\n",
        "ANS-\n",
        "\n",
        "Memory management in Python refers to the process of allocating, using, and releasing memory efficiently during program execution. It ensures that your program doesn't waste memory or crash due to memory issues.\n",
        "\n",
        "12-What are the basic steps involved in exception handling in Python ?\n",
        "\n",
        "ANS-\n",
        "\n",
        "Exception handling in Python is the process of managing errors gracefully during program execution. It prevents programs from crashing unexpectedly and allows developers to define how to respond to runtime errors.\n",
        "\n",
        "13-Why is memory management important in Python ?\n",
        "\n",
        "ANS-\n",
        "\n",
        "Memory management is crucial in Python because it directly affects a program’s performance, stability, and scalability.\n",
        "\n",
        "14-What is the role of try and except in exception handling ?\n",
        "\n",
        "ANS-\n",
        "\n",
        "In Python, try and except blocks are used to catch and handle exceptions (errors) that may occur during program execution. They form the core structure of exception handling.\n",
        "\n",
        "15-How does Python's garbage collection system work ?\n",
        "\n",
        "ANS-\n",
        "\n",
        "Python's garbage collection (GC) system is responsible for automatically reclaiming memory used by objects that are no longer needed. This prevents memory leaks and keeps programs efficient.\n",
        "\n",
        "16-What is the purpose of the else block in exception handling ?\n",
        "\n",
        "ANS-\n",
        "\n",
        "The else block in Python exception handling is used to define code that should run only if no exception was raised in the try block.\n",
        "\n",
        "17-What are the common logging levels in Python ?\n",
        "\n",
        "ANS-\n",
        "\n",
        "Python provides a built-in logging module that helps you track events that happen during program execution. Logging levels define the severity or importance of the events.\n",
        "\n",
        "18-What is the difference between os.fork() and multiprocessing in Python ?\n",
        "\n",
        "ANS-\n",
        "\n",
        "Both os.fork() and the multiprocessing module are used to create new proces ,  but they differ in how they work, platform support, and ease of use\n",
        "\n",
        "20-What is the importance of closing a file in Python ?\n",
        "\n",
        "ANS-\n",
        "\n",
        "Closing a file in Python is very important for maintaining data integrity, managing system resources, and ensuring proper program behavior.\n",
        "\n",
        "21-What is the difference between file.read() and file.readline() in Python ?\n",
        "\n",
        "ANS-\n",
        "\n",
        "Both file.read() and file.readline() are used to read data from a file, but they behave differently in terms of how much data they read.\n",
        "\n",
        "22-What is the logging module in Python used for ?\n",
        "\n",
        "ANS-\n",
        "\n",
        "The logging module in Python is used to track events that happen during the execution of a program. It provides a flexible framework for emitting log messages from Python programs.\n",
        "\n",
        "22-What is the os module in Python used for in file handling ?\n",
        "\n",
        "ANS-\n",
        "\n",
        "The os module in Python provides functions to interact with the operating system, especially for file and directory handling.\n",
        "\n",
        "23-What are the challenges associated with memory management in Python ?\n",
        "\n",
        "ANS-\n",
        "\n",
        "While Python provides automatic memory management through its garbage collector, there are still several challenges developers may encounter:\n",
        "     \n",
        "     Memory Leaks\n",
        "     \n",
        "     Circular References\n",
        "     \n",
        "     Garbage Collection Overhead\n",
        "     \n",
        "     Fragmentation\n",
        "     \n",
        "     High Memory Usage with Large Data\n",
        "     \n",
        "     Lack of Explicit Control"
      ],
      "metadata": {
        "id": "-w3ws_IXVQDk"
      }
    },
    {
      "cell_type": "markdown",
      "source": [
        "24-How do you raise an exception manually in Python ?\n",
        "\n",
        "ANS-\n",
        "\n",
        "In Python, you can raise an exception manually using the raise statement. This is useful when you want to trigger an error intentionally based on certain conditions in your program.\n",
        "\n",
        "25-Why is it important to use multithreading in certain applications ?\n",
        "\n",
        "ANS-\n",
        "\n",
        "Multithreading allows a program to execute multiple threads (smaller units of a process) concurrently. This is important in applications where responsiveness, efficiency, and parallel task execution are required."
      ],
      "metadata": {
        "id": "qSw46iecW8mr"
      }
    },
    {
      "cell_type": "markdown",
      "source": [
        "**PRACTICAL QUESTIONS**"
      ],
      "metadata": {
        "id": "CgiQlfuBXIIa"
      }
    },
    {
      "cell_type": "markdown",
      "source": [
        "1-How can you open a file for writing in Python and write a string to it\n"
      ],
      "metadata": {
        "id": "j1cUmlTnXN5q"
      }
    },
    {
      "cell_type": "code",
      "source": [
        "with open(\"example.txt\", \"w\") as file:\n",
        "    file.write(\"Hello, this is a sample text.\")\n",
        ""
      ],
      "metadata": {
        "id": "l-inLBCjUwLq"
      },
      "execution_count": 1,
      "outputs": []
    },
    {
      "cell_type": "markdown",
      "source": [
        "2-Write a Python program to read the contents of a file and print each line\n"
      ],
      "metadata": {
        "id": "_B4he7HzXZgc"
      }
    },
    {
      "cell_type": "code",
      "source": [
        "# Open the file in read mode\n",
        "with open(\"example.txt\", \"r\") as file:\n",
        "    # Read and print each line one by one\n",
        "    for line in file:\n",
        "        print(line.strip())  # strip() removes extra newline characters\n"
      ],
      "metadata": {
        "colab": {
          "base_uri": "https://localhost:8080/"
        },
        "id": "kGmwV9bSXWoC",
        "outputId": "cb102f06-e5da-4118-cfd0-c61688ba698c"
      },
      "execution_count": 2,
      "outputs": [
        {
          "output_type": "stream",
          "name": "stdout",
          "text": [
            "Hello, this is a sample text.\n"
          ]
        }
      ]
    },
    {
      "cell_type": "markdown",
      "source": [
        "3-How would you handle a case where the file doesn't exist while trying to open it for reading\n"
      ],
      "metadata": {
        "id": "h5O5ks-QXjo8"
      }
    },
    {
      "cell_type": "code",
      "source": [
        "filename = \"example.txt\"\n",
        "\n",
        "try:\n",
        "    with open(filename, \"r\") as file:\n",
        "        for line in file:\n",
        "            print(line.strip())\n",
        "except FileNotFoundError:\n",
        "    print(f\"Error: The file '{filename}' does not exist.\")"
      ],
      "metadata": {
        "colab": {
          "base_uri": "https://localhost:8080/"
        },
        "id": "dmyCfBorXe-C",
        "outputId": "aa50383d-e009-42e1-b76c-47f1a7a4000e"
      },
      "execution_count": 3,
      "outputs": [
        {
          "output_type": "stream",
          "name": "stdout",
          "text": [
            "Hello, this is a sample text.\n"
          ]
        }
      ]
    },
    {
      "cell_type": "markdown",
      "source": [
        "4-Write a Python script that reads from one file and writes its content to another fileF\n"
      ],
      "metadata": {
        "id": "jN-Nh-4UXunz"
      }
    },
    {
      "cell_type": "code",
      "source": [
        "# Define source and destination file names\n",
        "source_file = \"source.txt\"\n",
        "destination_file = \"destination.txt\"\n",
        "\n",
        "try:\n",
        "    # Open source file for reading\n",
        "    with open(source_file, \"r\") as src:\n",
        "        # Open destination file for writing\n",
        "        with open(destination_file, \"w\") as dest:\n",
        "            # Read from source and write to destination\n",
        "            for line in src:\n",
        "                dest.write(line)\n",
        "\n",
        "    print(f\"Contents copied from '{source_file}' to '{destination_file}' successfully.\")\n",
        "except FileNotFoundError:\n",
        "    print(f\"Error: The file '{source_file}' does not exist.\")\n",
        "except IOError as e:\n",
        "    print(f\"I/O error occurred: {e}\")\n"
      ],
      "metadata": {
        "colab": {
          "base_uri": "https://localhost:8080/"
        },
        "id": "qK9dZAXSXnMe",
        "outputId": "ab1e6a37-263b-42d9-c024-560e4ace3342"
      },
      "execution_count": 4,
      "outputs": [
        {
          "output_type": "stream",
          "name": "stdout",
          "text": [
            "Error: The file 'source.txt' does not exist.\n"
          ]
        }
      ]
    },
    {
      "cell_type": "markdown",
      "source": [
        "5-How would you catch and handle division by zero error in Python\n"
      ],
      "metadata": {
        "id": "E9PMlEINX0m6"
      }
    },
    {
      "cell_type": "code",
      "source": [
        "try:\n",
        "    num = 10\n",
        "    denom = 0\n",
        "    result = num / denom\n",
        "    print(\"Result:\", result)\n",
        "except ZeroDivisionError:\n",
        "    print(\"Error: Division by zero is not allowed.\")\n"
      ],
      "metadata": {
        "colab": {
          "base_uri": "https://localhost:8080/"
        },
        "id": "WFXRaqpZXy1s",
        "outputId": "00e58e35-8aa8-4d33-b9a3-2855ad0d3930"
      },
      "execution_count": 5,
      "outputs": [
        {
          "output_type": "stream",
          "name": "stdout",
          "text": [
            "Error: Division by zero is not allowed.\n"
          ]
        }
      ]
    },
    {
      "cell_type": "markdown",
      "source": [
        "6-Write a Python program that logs an error message to a log file when a division by zero exception occurs.\n"
      ],
      "metadata": {
        "id": "u1WaC59TX6L5"
      }
    },
    {
      "cell_type": "code",
      "source": [
        "import logging\n",
        "\n",
        "# Configure logging\n",
        "logging.basicConfig(\n",
        "    filename='error_log.txt',      # Log file name\n",
        "    level=logging.ERROR,           # Log level\n",
        "    format='%(asctime)s - %(levelname)s - %(message)s'  # Log format\n",
        ")\n",
        "\n",
        "try:\n",
        "    # Example division\n",
        "    numerator = 10\n",
        "    denominator = 0\n",
        "    result = numerator / denominator\n",
        "    print(\"Result:\", result)\n",
        "\n",
        "except ZeroDivisionError as e:\n",
        "    logging.error(\"Division by zero attempted. Details: %s\", e)\n",
        "    print(\"An error occurred. Check the log file for details.\")"
      ],
      "metadata": {
        "colab": {
          "base_uri": "https://localhost:8080/"
        },
        "id": "1U4F02huX5R3",
        "outputId": "4e442dcd-4a45-4312-df60-b9445dc0ec43"
      },
      "execution_count": 6,
      "outputs": [
        {
          "output_type": "stream",
          "name": "stderr",
          "text": [
            "ERROR:root:Division by zero attempted. Details: division by zero\n"
          ]
        },
        {
          "output_type": "stream",
          "name": "stdout",
          "text": [
            "An error occurred. Check the log file for details.\n"
          ]
        }
      ]
    },
    {
      "cell_type": "markdown",
      "source": [
        "7-How do you log information at different levels (INFO, ERROR, WARNING) in Python using the logging module\n"
      ],
      "metadata": {
        "id": "v3XzVHdwYZOk"
      }
    },
    {
      "cell_type": "code",
      "source": [
        "import logging\n",
        "\n",
        "# Configure the logging\n",
        "logging.basicConfig(\n",
        "    filename='app.log',               # Log file name\n",
        "    level=logging.DEBUG,              # Minimum logging level\n",
        "    format='%(asctime)s - %(levelname)s - %(message)s'\n",
        ")\n",
        "\n",
        "# Logging messages at different levels\n",
        "logging.debug(\"This is a DEBUG message.\")\n",
        "logging.info(\"This is an INFO message.\")\n",
        "logging.warning(\"This is a WARNING message.\")\n",
        "logging.error(\"This is an ERROR message.\")\n",
        "logging.critical(\"This is a CRITICAL message.\")\n"
      ],
      "metadata": {
        "colab": {
          "base_uri": "https://localhost:8080/"
        },
        "id": "y5zFCSEQYYPB",
        "outputId": "b72da610-e4cc-4b13-872a-b29199c4f73d"
      },
      "execution_count": 7,
      "outputs": [
        {
          "output_type": "stream",
          "name": "stderr",
          "text": [
            "WARNING:root:This is a WARNING message.\n",
            "ERROR:root:This is an ERROR message.\n",
            "CRITICAL:root:This is a CRITICAL message.\n"
          ]
        }
      ]
    },
    {
      "cell_type": "markdown",
      "source": [
        "8-Write a program to handle a file opening error using exception handling\n"
      ],
      "metadata": {
        "id": "c1toFB3zYevw"
      }
    },
    {
      "cell_type": "code",
      "source": [
        "filename = \"nonexistent_file.txt\"  # File that does not exist\n",
        "\n",
        "try:\n",
        "    with open(filename, \"r\") as file:\n",
        "        content = file.read()\n",
        "        print(\"File content:\\n\", content)\n",
        "\n",
        "except FileNotFoundError:\n",
        "    print(f\"Error: The file '{filename}' was not found.\")\n",
        "\n",
        "except IOError as e:\n",
        "    print(f\"An I/O error occurred: {e}\")\n"
      ],
      "metadata": {
        "colab": {
          "base_uri": "https://localhost:8080/"
        },
        "id": "2snp_zuAYdi2",
        "outputId": "9d40a0f0-df37-4b9c-da80-9b57ca5e254f"
      },
      "execution_count": 8,
      "outputs": [
        {
          "output_type": "stream",
          "name": "stdout",
          "text": [
            "Error: The file 'nonexistent_file.txt' was not found.\n"
          ]
        }
      ]
    },
    {
      "cell_type": "markdown",
      "source": [
        "9- How can you read a file line by line and store its content in a list in Python\n"
      ],
      "metadata": {
        "id": "KAyJH_KEYjdg"
      }
    },
    {
      "cell_type": "code",
      "source": [
        "with open(\"example.txt\", \"r\") as file:\n",
        "    lines = file.readlines()\n",
        "\n",
        "print(lines)  # This will be a list where each item is a line from the file"
      ],
      "metadata": {
        "colab": {
          "base_uri": "https://localhost:8080/"
        },
        "id": "huvxbUJxYisP",
        "outputId": "9658c504-620e-4d1d-fb18-8b98124092a0"
      },
      "execution_count": 9,
      "outputs": [
        {
          "output_type": "stream",
          "name": "stdout",
          "text": [
            "['Hello, this is a sample text.']\n"
          ]
        }
      ]
    },
    {
      "cell_type": "markdown",
      "source": [
        "10-How can you append data to an existing file in Python ?\n"
      ],
      "metadata": {
        "id": "e7DU_YpRYqm0"
      }
    },
    {
      "cell_type": "code",
      "source": [
        "# Open the file in append mode\n",
        "with open(\"example.txt\", \"a\") as file:\n",
        "    file.write(\"This line will be added to the file.\\n\")"
      ],
      "metadata": {
        "id": "Oe_I99ACYphV"
      },
      "execution_count": 10,
      "outputs": []
    },
    {
      "cell_type": "markdown",
      "source": [
        "11-Write a Python program that uses a try-except block to handle an error when attempting to access a dictionary key that doesn't exist\n"
      ],
      "metadata": {
        "id": "4EnrARaEYx59"
      }
    },
    {
      "cell_type": "code",
      "source": [
        "\n",
        "# Sample dictionary\n",
        "person = {\n",
        "    \"name\": \"Alice\",\n",
        "    \"age\": 30\n",
        "}\n",
        "\n",
        "try:\n",
        "    # Attempting to access a key that doesn't exist\n",
        "    print(\"City:\", person[\"city\"])\n",
        "except KeyError:\n",
        "    print(\"Error: The key 'city' does not exist in the dictionary.\")\n"
      ],
      "metadata": {
        "colab": {
          "base_uri": "https://localhost:8080/"
        },
        "id": "9HCk6kenYvDv",
        "outputId": "92a504a2-53bb-444e-8b45-ab515d99a30a"
      },
      "execution_count": 11,
      "outputs": [
        {
          "output_type": "stream",
          "name": "stdout",
          "text": [
            "Error: The key 'city' does not exist in the dictionary.\n"
          ]
        }
      ]
    },
    {
      "cell_type": "markdown",
      "source": [
        "12- Write a program that demonstrates using multiple except blocks to handle different types of exceptions.\n"
      ],
      "metadata": {
        "id": "kX40cTi-Y196"
      }
    },
    {
      "cell_type": "code",
      "source": [
        "try:\n",
        "    # User input for demonstration\n",
        "    num = int(input(\"Enter a number: \"))\n",
        "    result = 10 / num\n",
        "    print(\"Result:\", result)\n",
        "\n",
        "    # Accessing a dictionary key\n",
        "    data = {\"name\": \"Alice\"}\n",
        "    print(\"Age:\", data[\"age\"])\n",
        "\n",
        "except ZeroDivisionError:\n",
        "    print(\"Error: Cannot divide by zero.\")\n",
        "\n",
        "except ValueError:\n",
        "    print(\"Error: Invalid input. Please enter a number.\")\n",
        "\n",
        "except KeyError:\n",
        "    print(\"Error: The specified key does not exist in the dictionary.\")\n"
      ],
      "metadata": {
        "colab": {
          "base_uri": "https://localhost:8080/"
        },
        "id": "90E1dGkmY1Du",
        "outputId": "8c604526-f568-4b0c-bfec-21997964862c"
      },
      "execution_count": 12,
      "outputs": [
        {
          "output_type": "stream",
          "name": "stdout",
          "text": [
            "Enter a number: 23\n",
            "Result: 0.43478260869565216\n",
            "Error: The specified key does not exist in the dictionary.\n"
          ]
        }
      ]
    },
    {
      "cell_type": "markdown",
      "source": [
        "13-How would you check if a file exists before attempting to read it in Python ?\n"
      ],
      "metadata": {
        "id": "jkKOmc4eY-0Q"
      }
    },
    {
      "cell_type": "code",
      "source": [
        "import os\n",
        "\n",
        "filename = \"example.txt\"\n",
        "\n",
        "if os.path.exists(filename):\n",
        "    with open(filename, \"r\") as file:\n",
        "        content = file.read()\n",
        "        print(content)\n",
        "else:\n",
        "    print(f\"Error: '{filename}' does not exist.\")"
      ],
      "metadata": {
        "colab": {
          "base_uri": "https://localhost:8080/"
        },
        "id": "D-IbJn_VY675",
        "outputId": "64aa1618-668e-4e44-eaae-48b28df81d07"
      },
      "execution_count": 13,
      "outputs": [
        {
          "output_type": "stream",
          "name": "stdout",
          "text": [
            "Hello, this is a sample text.This line will be added to the file.\n",
            "\n"
          ]
        }
      ]
    },
    {
      "cell_type": "markdown",
      "source": [
        "14-Write a program that uses the logging module to log both informational and error messages\n"
      ],
      "metadata": {
        "id": "J6TJW_hhZDQK"
      }
    },
    {
      "cell_type": "code",
      "source": [
        "import logging\n",
        "\n",
        "# Configure logging\n",
        "logging.basicConfig(\n",
        "    filename='app_log.txt',             # Log file name\n",
        "    level=logging.DEBUG,                # Minimum level to log\n",
        "    format='%(asctime)s - %(levelname)s - %(message)s'\n",
        ")\n",
        "\n",
        "# Log an informational message\n",
        "logging.info(\"Program started successfully.\")\n",
        "\n",
        "try:\n",
        "    # A simple operation (division)\n",
        "    num1 = 10\n",
        "    num2 = 0\n",
        "    result = num1 / num2\n",
        "    logging.info(f\"Division result: {result}\")\n",
        "\n",
        "except ZeroDivisionError as e:\n",
        "    logging.error(\"Error occurred: Division by zero.\")\n",
        "\n",
        "# End of the program\n",
        "logging.info(\"Program finished.\")"
      ],
      "metadata": {
        "colab": {
          "base_uri": "https://localhost:8080/"
        },
        "id": "Fg7aEiP0ZCcT",
        "outputId": "0d4d8b5f-71a3-45f4-8cef-27f0acf582b0"
      },
      "execution_count": 14,
      "outputs": [
        {
          "output_type": "stream",
          "name": "stderr",
          "text": [
            "ERROR:root:Error occurred: Division by zero.\n"
          ]
        }
      ]
    },
    {
      "cell_type": "markdown",
      "source": [
        "15-Write a Python program that prints the content of a file and handles the case when the file is empty\n"
      ],
      "metadata": {
        "id": "Fij1QC1sZTTh"
      }
    },
    {
      "cell_type": "code",
      "source": [
        "def print_file_content(filename):\n",
        "    try:\n",
        "        with open(filename, \"r\") as file:\n",
        "            content = file.read()\n",
        "\n",
        "            if content.strip() == \"\":\n",
        "                print(\"The file is empty.\")\n",
        "            else:\n",
        "                print(\"File content:\\n\")\n",
        "                print(content)\n",
        "\n",
        "    except FileNotFoundError:\n",
        "        print(f\"Error: The file '{filename}' does not exist.\")\n",
        "    except IOError as e:\n",
        "        print(f\"An I/O error occurred: {e}\")\n",
        "\n",
        "# Test with a file name\n",
        "print_file_content(\"example.txt\")"
      ],
      "metadata": {
        "colab": {
          "base_uri": "https://localhost:8080/"
        },
        "id": "bxp84wbjZH2h",
        "outputId": "e46992ad-dfd2-493b-f160-7f4124c09b18"
      },
      "execution_count": 15,
      "outputs": [
        {
          "output_type": "stream",
          "name": "stdout",
          "text": [
            "File content:\n",
            "\n",
            "Hello, this is a sample text.This line will be added to the file.\n",
            "\n"
          ]
        }
      ]
    },
    {
      "cell_type": "markdown",
      "source": [
        "16-Demonstrate how to use memory profiling to check the memory usage of a small program\n"
      ],
      "metadata": {
        "id": "zS0T1xPaZYQ4"
      }
    },
    {
      "cell_type": "code",
      "source": [
        "## Install memory_profiler\n",
        "\n",
        "# memory_example.py\n",
        "\n",
        "@profile\n",
        "def create_large_list():\n",
        "    large_list = [x * 2 for x in range(1000000)]  # Creates a large list\n",
        "    return large_list\n",
        "\n",
        "if __name__ == \"__main__\":\n",
        "    create_large_list()\n",
        "\n",
        "\n",
        "# python -m memory_profiler memory_example.py\n"
      ],
      "metadata": {
        "id": "C6Bon5piboQ-"
      },
      "execution_count": null,
      "outputs": []
    },
    {
      "cell_type": "markdown",
      "source": [
        "17-Write a Python program to create and write a list of numbers to a file, one number per line\n"
      ],
      "metadata": {
        "id": "yM53-FpkaOfR"
      }
    },
    {
      "cell_type": "code",
      "source": [
        "# List of numbers to write\n",
        "numbers = [1, 2, 3, 4, 5, 6, 7, 8, 9, 10]\n",
        "\n",
        "# File to write to\n",
        "filename = \"numbers.txt\"\n",
        "\n",
        "# Write each number to the file on a separate line\n",
        "with open(filename, \"w\") as file:\n",
        "    for number in numbers:\n",
        "        file.write(str(number) + \"\\n\")\n",
        "\n",
        "print(f\"Successfully written {len(numbers)} numbers to '{filename}'\")"
      ],
      "metadata": {
        "colab": {
          "base_uri": "https://localhost:8080/"
        },
        "id": "SsuVqJcPZozu",
        "outputId": "342a4018-d289-49d6-9722-b6c738ce04fb"
      },
      "execution_count": 19,
      "outputs": [
        {
          "output_type": "stream",
          "name": "stdout",
          "text": [
            "Successfully written 10 numbers to 'numbers.txt'\n"
          ]
        }
      ]
    },
    {
      "cell_type": "markdown",
      "source": [
        "18-How would you implement a basic logging setup that logs to a file with rotation after 1MB\n"
      ],
      "metadata": {
        "id": "ysZ9xdJDaWdX"
      }
    },
    {
      "cell_type": "code",
      "source": [
        "import logging\n",
        "from logging.handlers import RotatingFileHandler\n",
        "\n",
        "# Configure the logger\n",
        "logger = logging.getLogger(\"MyLogger\")\n",
        "logger.setLevel(logging.DEBUG)\n",
        "\n",
        "# Set up a rotating file handler\n",
        "handler = RotatingFileHandler(\n",
        "    \"app.log\",         # Log file name\n",
        "    maxBytes=1_000_000,  # Rotate after 1MB\n",
        "    backupCount=3        # Keep 3 backup log files\n",
        ")\n",
        "\n",
        "# Log message format\n",
        "formatter = logging.Formatter('%(asctime)s - %(levelname)s - %(message)s')\n",
        "handler.setFormatter(formatter)\n",
        "\n",
        "# Add the handler to the logger\n",
        "logger.addHandler(handler)\n",
        "\n",
        "# Example log messages\n",
        "for i in range(10000):\n",
        "    logger.info(f\"Logging line {i}\")"
      ],
      "metadata": {
        "id": "FBnv8y1Yacbj"
      },
      "execution_count": null,
      "outputs": []
    },
    {
      "cell_type": "markdown",
      "source": [
        "19-Write a program that handles both IndexError and KeyError using a try-except block\n"
      ],
      "metadata": {
        "id": "D7HfQEg7bC2u"
      }
    },
    {
      "cell_type": "code",
      "source": [
        "def handle_errors():\n",
        "    try:\n",
        "        # IndexError example\n",
        "        my_list = [1, 2, 3]\n",
        "        print(\"Accessing 5th item in list:\", my_list[4])  # IndexError\n",
        "\n",
        "        # KeyError example\n",
        "        my_dict = {\"name\": \"Alice\"}\n",
        "        print(\"Accessing 'age' key in dict:\", my_dict[\"age\"])  # KeyError\n",
        "\n",
        "    except IndexError:\n",
        "        print(\"Error: List index out of range.\")\n",
        "\n",
        "    except KeyError:\n",
        "        print(\"Error: Key not found in dictionary.\")\n",
        "\n",
        "# Run the function\n",
        "handle_errors()"
      ],
      "metadata": {
        "colab": {
          "base_uri": "https://localhost:8080/"
        },
        "id": "li9FXjMxbAee",
        "outputId": "3ad45eda-fc45-4cbc-c267-02c0c76a8d26"
      },
      "execution_count": 2,
      "outputs": [
        {
          "output_type": "stream",
          "name": "stdout",
          "text": [
            "Error: List index out of range.\n"
          ]
        }
      ]
    },
    {
      "cell_type": "markdown",
      "source": [
        "20-How would you open a file and read its contents using a context manager in Python\n"
      ],
      "metadata": {
        "id": "jM2nXeNlbJdn"
      }
    },
    {
      "cell_type": "code",
      "source": [
        "filename = \"example.txt\"\n",
        "\n",
        "# Open and read using a context manager\n",
        "with open(filename, \"r\") as file:\n",
        "    content = file.read()\n",
        "    print(content)\n"
      ],
      "metadata": {
        "colab": {
          "base_uri": "https://localhost:8080/"
        },
        "id": "KFj2ayGWbGnk",
        "outputId": "e8e57223-a522-4530-fc3b-056c67cb0752"
      },
      "execution_count": 3,
      "outputs": [
        {
          "output_type": "stream",
          "name": "stdout",
          "text": [
            "Hello, this is a sample text.This line will be added to the file.\n",
            "\n"
          ]
        }
      ]
    },
    {
      "cell_type": "markdown",
      "source": [
        "21-Write a Python program that reads a file and prints the number of occurrences of a specific word"
      ],
      "metadata": {
        "id": "J1UZ1sRWbOMO"
      }
    },
    {
      "cell_type": "code",
      "source": [
        "def count_word_occurrences(filename, target_word):\n",
        "    try:\n",
        "        with open(filename, 'r') as file:\n",
        "            content = file.read()\n",
        "            # Convert to lowercase for case-insensitive search\n",
        "            words = content.lower().split()\n",
        "            count = words.count(target_word.lower())\n",
        "            print(f\"The word '{target_word}' occurs {count} time(s) in the file.\")\n",
        "    except FileNotFoundError:\n",
        "        print(f\"Error: The file '{filename}' does not exist.\")\n",
        "    except IOError as e:\n",
        "        print(f\"An I/O error occurred: {e}\")\n",
        "\n",
        "# Example usage\n",
        "count_word_occurrences(\"sample.txt\", \"python\")"
      ],
      "metadata": {
        "colab": {
          "base_uri": "https://localhost:8080/"
        },
        "id": "_FQHWuNQbL4I",
        "outputId": "2ccc8008-1f2e-4d94-f726-42e7b7838d42"
      },
      "execution_count": 4,
      "outputs": [
        {
          "output_type": "stream",
          "name": "stdout",
          "text": [
            "Error: The file 'sample.txt' does not exist.\n"
          ]
        }
      ]
    },
    {
      "cell_type": "markdown",
      "source": [
        "22-How can you check if a file is empty before attempting to read its contents ?\n"
      ],
      "metadata": {
        "id": "ZTdQizICbTPn"
      }
    },
    {
      "cell_type": "code",
      "source": [
        "import os\n",
        "\n",
        "filename = \"example.txt\"\n",
        "\n",
        "# Check if file exists and is not empty\n",
        "if os.path.exists(filename) and os.stat(filename).st_size == 0:\n",
        "    print(\"The file is empty.\")\n",
        "else:\n",
        "    with open(filename, 'r') as file:\n",
        "        content = file.read()\n",
        "        print(\"File content:\\n\", content)"
      ],
      "metadata": {
        "colab": {
          "base_uri": "https://localhost:8080/"
        },
        "id": "6YjciqhibSDG",
        "outputId": "8465012a-c749-4bb6-abb0-86c345bb933c"
      },
      "execution_count": 5,
      "outputs": [
        {
          "output_type": "stream",
          "name": "stdout",
          "text": [
            "File content:\n",
            " Hello, this is a sample text.This line will be added to the file.\n",
            "\n"
          ]
        }
      ]
    },
    {
      "cell_type": "markdown",
      "source": [
        "23-Write a Python program that writes to a log file when an error occurs during file handling\n"
      ],
      "metadata": {
        "id": "JLGeqkNFbZw0"
      }
    },
    {
      "cell_type": "code",
      "source": [
        "import logging\n",
        "\n",
        "# Configure logging\n",
        "logging.basicConfig(\n",
        "    filename='file_errors.log',\n",
        "    level=logging.ERROR,\n",
        "    format='%(asctime)s - %(levelname)s - %(message)s'\n",
        ")\n",
        "\n",
        "def read_file(filename):\n",
        "    try:\n",
        "        with open(filename, 'r') as file:\n",
        "            content = file.read()\n",
        "            print(\"File content:\\n\", content)\n",
        "    except FileNotFoundError as e:\n",
        "        print(\"Error: File not found.\")\n",
        "        logging.error(f\"FileNotFoundError: {e}\")\n",
        "    except IOError as e:\n",
        "        print(\"Error: An I/O error occurred.\")\n",
        "        logging.error(f\"IOError: {e}\")\n",
        "\n",
        "# Example usage\n",
        "read_file(\"nonexistent_file.txt\")"
      ],
      "metadata": {
        "colab": {
          "base_uri": "https://localhost:8080/"
        },
        "id": "LFugQYDObXdo",
        "outputId": "4dce498e-adc7-4ba5-c08b-319de872a77c"
      },
      "execution_count": 6,
      "outputs": [
        {
          "output_type": "stream",
          "name": "stderr",
          "text": [
            "ERROR:root:FileNotFoundError: [Errno 2] No such file or directory: 'nonexistent_file.txt'\n"
          ]
        },
        {
          "output_type": "stream",
          "name": "stdout",
          "text": [
            "Error: File not found.\n"
          ]
        }
      ]
    },
    {
      "cell_type": "code",
      "source": [],
      "metadata": {
        "id": "VZ0WDbIvbc8T"
      },
      "execution_count": null,
      "outputs": []
    }
  ]
}